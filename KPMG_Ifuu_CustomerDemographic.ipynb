{
 "cells": [
  {
   "cell_type": "code",
   "execution_count": 121,
   "id": "cd151c08",
   "metadata": {},
   "outputs": [],
   "source": [
    "#Importing relevant libraries\n",
    "import pandas as pd\n",
    "import numpy as np \n",
    "import matplotlib.pyplot as plt\n",
    "import seaborn as sns\n",
    "plt.style.use('ggplot')\n",
    "#pd.set_option(\"max_columns\",200)"
   ]
  },
  {
   "cell_type": "code",
   "execution_count": 122,
   "id": "61f6ee7e",
   "metadata": {},
   "outputs": [],
   "source": [
    "data = pd.read_csv('KPMG_CustomerDemographic.csv')"
   ]
  },
  {
   "cell_type": "code",
   "execution_count": 123,
   "id": "882527fc",
   "metadata": {},
   "outputs": [
    {
     "data": {
      "text/plain": [
       "(4000, 13)"
      ]
     },
     "execution_count": 123,
     "metadata": {},
     "output_type": "execute_result"
    }
   ],
   "source": [
    "# checking the number of rows and columns in the dataset\n",
    "data.shape"
   ]
  },
  {
   "cell_type": "code",
   "execution_count": 124,
   "id": "6ff9ddbc",
   "metadata": {},
   "outputs": [
    {
     "data": {
      "text/html": [
       "<div>\n",
       "<style scoped>\n",
       "    .dataframe tbody tr th:only-of-type {\n",
       "        vertical-align: middle;\n",
       "    }\n",
       "\n",
       "    .dataframe tbody tr th {\n",
       "        vertical-align: top;\n",
       "    }\n",
       "\n",
       "    .dataframe thead th {\n",
       "        text-align: right;\n",
       "    }\n",
       "</style>\n",
       "<table border=\"1\" class=\"dataframe\">\n",
       "  <thead>\n",
       "    <tr style=\"text-align: right;\">\n",
       "      <th></th>\n",
       "      <th>customer_id</th>\n",
       "      <th>first_name</th>\n",
       "      <th>last_name</th>\n",
       "      <th>gender</th>\n",
       "      <th>past_3_years_bike_related_purchases</th>\n",
       "      <th>DOB</th>\n",
       "      <th>job_title</th>\n",
       "      <th>job_industry_category</th>\n",
       "      <th>wealth_segment</th>\n",
       "      <th>deceased_indicator</th>\n",
       "      <th>default</th>\n",
       "      <th>owns_car</th>\n",
       "      <th>tenure</th>\n",
       "    </tr>\n",
       "  </thead>\n",
       "  <tbody>\n",
       "    <tr>\n",
       "      <th>0</th>\n",
       "      <td>1</td>\n",
       "      <td>Laraine</td>\n",
       "      <td>Medendorp</td>\n",
       "      <td>F</td>\n",
       "      <td>93</td>\n",
       "      <td>10/12/1953</td>\n",
       "      <td>Executive Secretary</td>\n",
       "      <td>Health</td>\n",
       "      <td>Mass Customer</td>\n",
       "      <td>N</td>\n",
       "      <td>\"'</td>\n",
       "      <td>Yes</td>\n",
       "      <td>11.0</td>\n",
       "    </tr>\n",
       "    <tr>\n",
       "      <th>1</th>\n",
       "      <td>2</td>\n",
       "      <td>Eli</td>\n",
       "      <td>Bockman</td>\n",
       "      <td>Male</td>\n",
       "      <td>81</td>\n",
       "      <td>12/16/1980</td>\n",
       "      <td>Administrative Officer</td>\n",
       "      <td>Financial Services</td>\n",
       "      <td>Mass Customer</td>\n",
       "      <td>N</td>\n",
       "      <td>&lt;script&gt;alert('hi')&lt;/script&gt;</td>\n",
       "      <td>Yes</td>\n",
       "      <td>16.0</td>\n",
       "    </tr>\n",
       "    <tr>\n",
       "      <th>2</th>\n",
       "      <td>3</td>\n",
       "      <td>Arlin</td>\n",
       "      <td>Dearle</td>\n",
       "      <td>Male</td>\n",
       "      <td>61</td>\n",
       "      <td>1/20/1954</td>\n",
       "      <td>Recruiting Manager</td>\n",
       "      <td>Property</td>\n",
       "      <td>Mass Customer</td>\n",
       "      <td>N</td>\n",
       "      <td>1-Feb</td>\n",
       "      <td>Yes</td>\n",
       "      <td>15.0</td>\n",
       "    </tr>\n",
       "    <tr>\n",
       "      <th>3</th>\n",
       "      <td>4</td>\n",
       "      <td>Talbot</td>\n",
       "      <td>NaN</td>\n",
       "      <td>Male</td>\n",
       "      <td>33</td>\n",
       "      <td>10/3/1961</td>\n",
       "      <td>NaN</td>\n",
       "      <td>IT</td>\n",
       "      <td>Mass Customer</td>\n",
       "      <td>N</td>\n",
       "      <td>() { _; } &gt;_[$($())] { touch /tmp/blns.shellsh...</td>\n",
       "      <td>No</td>\n",
       "      <td>7.0</td>\n",
       "    </tr>\n",
       "    <tr>\n",
       "      <th>4</th>\n",
       "      <td>5</td>\n",
       "      <td>Sheila-kathryn</td>\n",
       "      <td>Calton</td>\n",
       "      <td>Female</td>\n",
       "      <td>56</td>\n",
       "      <td>5/13/1977</td>\n",
       "      <td>Senior Editor</td>\n",
       "      <td>NaN</td>\n",
       "      <td>Affluent Customer</td>\n",
       "      <td>N</td>\n",
       "      <td>NIL</td>\n",
       "      <td>Yes</td>\n",
       "      <td>8.0</td>\n",
       "    </tr>\n",
       "  </tbody>\n",
       "</table>\n",
       "</div>"
      ],
      "text/plain": [
       "   customer_id      first_name  last_name  gender  \\\n",
       "0            1         Laraine  Medendorp       F   \n",
       "1            2             Eli    Bockman    Male   \n",
       "2            3           Arlin     Dearle    Male   \n",
       "3            4          Talbot        NaN    Male   \n",
       "4            5  Sheila-kathryn     Calton  Female   \n",
       "\n",
       "   past_3_years_bike_related_purchases         DOB               job_title  \\\n",
       "0                                   93  10/12/1953     Executive Secretary   \n",
       "1                                   81  12/16/1980  Administrative Officer   \n",
       "2                                   61   1/20/1954      Recruiting Manager   \n",
       "3                                   33   10/3/1961                     NaN   \n",
       "4                                   56   5/13/1977           Senior Editor   \n",
       "\n",
       "  job_industry_category     wealth_segment deceased_indicator  \\\n",
       "0                Health      Mass Customer                  N   \n",
       "1    Financial Services      Mass Customer                  N   \n",
       "2              Property      Mass Customer                  N   \n",
       "3                    IT      Mass Customer                  N   \n",
       "4                   NaN  Affluent Customer                  N   \n",
       "\n",
       "                                             default owns_car  tenure  \n",
       "0                                                 \"'      Yes    11.0  \n",
       "1                       <script>alert('hi')</script>      Yes    16.0  \n",
       "2                                              1-Feb      Yes    15.0  \n",
       "3  () { _; } >_[$($())] { touch /tmp/blns.shellsh...       No     7.0  \n",
       "4                                                NIL      Yes     8.0  "
      ]
     },
     "execution_count": 124,
     "metadata": {},
     "output_type": "execute_result"
    }
   ],
   "source": [
    "#To view the first(.head) and last(.tail) inputs. you can also specify the number of entry to view\n",
    "data.head()"
   ]
  },
  {
   "cell_type": "code",
   "execution_count": 125,
   "id": "f1057e6a",
   "metadata": {},
   "outputs": [],
   "source": [
    "# To display all rows or columns\n",
    "#pd.set_option(\"display.max_row\",None)"
   ]
  },
  {
   "cell_type": "code",
   "execution_count": 126,
   "id": "9d4948cd",
   "metadata": {},
   "outputs": [
    {
     "data": {
      "text/plain": [
       "Index(['customer_id', 'first_name', 'last_name', 'gender',\n",
       "       'past_3_years_bike_related_purchases', 'DOB', 'job_title',\n",
       "       'job_industry_category', 'wealth_segment', 'deceased_indicator',\n",
       "       'default', 'owns_car', 'tenure'],\n",
       "      dtype='object')"
      ]
     },
     "execution_count": 126,
     "metadata": {},
     "output_type": "execute_result"
    }
   ],
   "source": [
    "#To view all the columns\n",
    "data.columns"
   ]
  },
  {
   "cell_type": "code",
   "execution_count": 127,
   "id": "2f8bd256",
   "metadata": {},
   "outputs": [],
   "source": [
    "# Renaming the columns using dictionaries. Capitalizing the first letters\n",
    "data= data.rename(columns ={'customer_id': 'Customer_ID',  'first_name':'First_Name', 'last_name':'Last_Name', 'gender':'Gender',\n",
    "       'past_3_years_bike_related_purchases': 'Past_3_Years_Bike_Related_Purchase', 'DOB':'Date_of_Birth', 'job_title': 'Job_Title',\n",
    "       'job_industry_category':'Job_Industry_Category', 'wealth_segment':'Wealth_Segment', 'deceased_indicator':'Deceased_Indicator',\n",
    "       'default':'Default', 'owns_car':'Owns_Car', 'tenure':'Tenure'})"
   ]
  },
  {
   "cell_type": "code",
   "execution_count": 128,
   "id": "ae51718f",
   "metadata": {},
   "outputs": [
    {
     "data": {
      "text/plain": [
       "Customer_ID                             0\n",
       "First_Name                              0\n",
       "Last_Name                             125\n",
       "Gender                                  0\n",
       "Past_3_Years_Bike_Related_Purchase      0\n",
       "Date_of_Birth                          87\n",
       "Job_Title                             506\n",
       "Job_Industry_Category                 656\n",
       "Wealth_Segment                          0\n",
       "Deceased_Indicator                      0\n",
       "Default                               302\n",
       "Owns_Car                                0\n",
       "Tenure                                 87\n",
       "dtype: int64"
      ]
     },
     "execution_count": 128,
     "metadata": {},
     "output_type": "execute_result"
    }
   ],
   "source": [
    "data.isnull().sum()"
   ]
  },
  {
   "cell_type": "code",
   "execution_count": 101,
   "id": "bca70dfb",
   "metadata": {},
   "outputs": [
    {
     "data": {
      "text/plain": [
       "Customer_ID                             int64\n",
       "First_Name                             object\n",
       "Last_Name                              object\n",
       "Gender                                 object\n",
       "Past_3_Years_Bike_Related_Purchase      int64\n",
       "Date_of_Birth                          object\n",
       "Job_Title                              object\n",
       "Job_Industry_Category                  object\n",
       "Wealth_Segment                         object\n",
       "Deceased_Indicator                     object\n",
       "Default                                object\n",
       "Owns_Car                               object\n",
       "Tenure                                float64\n",
       "dtype: object"
      ]
     },
     "execution_count": 101,
     "metadata": {},
     "output_type": "execute_result"
    }
   ],
   "source": [
    "#Understanding the data type of each column\n",
    "data.dtypes"
   ]
  },
  {
   "cell_type": "code",
   "execution_count": 102,
   "id": "0603dbd2",
   "metadata": {},
   "outputs": [
    {
     "data": {
      "text/plain": [
       "0      1953-10-12\n",
       "1      1980-12-16\n",
       "2      1954-01-20\n",
       "3      1961-10-03\n",
       "4      1977-05-13\n",
       "          ...    \n",
       "3995   1975-08-09\n",
       "3996   2001-07-13\n",
       "3997          NaT\n",
       "3998   1973-10-24\n",
       "3999   1991-11-05\n",
       "Name: Date_of_Birth, Length: 4000, dtype: datetime64[ns]"
      ]
     },
     "execution_count": 102,
     "metadata": {},
     "output_type": "execute_result"
    }
   ],
   "source": [
    "# change the date of birth from object to datetime\n",
    "data['Date_of_Birth'] =pd.to_datetime(data['Date_of_Birth'])\n",
    "data['Date_of_Birth']"
   ]
  },
  {
   "cell_type": "code",
   "execution_count": 108,
   "id": "e7d790e4",
   "metadata": {},
   "outputs": [],
   "source": [
    "#Set the null values to np.nana using loc\n",
    "data.loc[data['Date_of_Birth'].isnull(), 'Date_of_Birth'] = np.nan"
   ]
  },
  {
   "cell_type": "code",
   "execution_count": 109,
   "id": "8fd17311",
   "metadata": {},
   "outputs": [],
   "source": [
    "#Drop date of birth rows with null values using loc\n",
    "data = data.loc[~data['Date_of_Birth'].isnull()]"
   ]
  },
  {
   "cell_type": "code",
   "execution_count": null,
   "id": "3a60e5d8",
   "metadata": {},
   "outputs": [],
   "source": []
  },
  {
   "cell_type": "code",
   "execution_count": 110,
   "id": "d14b02d6",
   "metadata": {},
   "outputs": [
    {
     "data": {
      "text/plain": [
       "array(['F', 'Male', 'Female', 'U', 'Femal', 'M'], dtype=object)"
      ]
     },
     "execution_count": 110,
     "metadata": {},
     "output_type": "execute_result"
    }
   ],
   "source": [
    "#Checking the unique values in Gender column\n",
    "data['Gender'].unique()"
   ]
  },
  {
   "cell_type": "code",
   "execution_count": 111,
   "id": "e1dbab7c",
   "metadata": {},
   "outputs": [],
   "source": [
    "#Replace the M, F, Femal and U\n",
    "data['Gender'] = data['Gender'].replace({'M':'Male', 'F':'Female', 'U':'NaN', 'Femal':'Female'})"
   ]
  },
  {
   "cell_type": "code",
   "execution_count": null,
   "id": "b9dac9b4",
   "metadata": {},
   "outputs": [],
   "source": []
  },
  {
   "cell_type": "code",
   "execution_count": 112,
   "id": "a7042dcd",
   "metadata": {},
   "outputs": [],
   "source": [
    "#Dropping null values\n",
    "data = data.dropna()\n"
   ]
  },
  {
   "cell_type": "code",
   "execution_count": 113,
   "id": "40b9f171",
   "metadata": {},
   "outputs": [
    {
     "data": {
      "text/plain": [
       "Index(['Customer_ID', 'First_Name', 'Last_Name', 'Gender',\n",
       "       'Past_3_Years_Bike_Related_Purchase', 'Date_of_Birth', 'Job_Title',\n",
       "       'Job_Industry_Category', 'Wealth_Segment', 'Deceased_Indicator',\n",
       "       'Default', 'Owns_Car', 'Tenure'],\n",
       "      dtype='object')"
      ]
     },
     "execution_count": 113,
     "metadata": {},
     "output_type": "execute_result"
    }
   ],
   "source": [
    "data.columns"
   ]
  },
  {
   "cell_type": "code",
   "execution_count": 114,
   "id": "662d2be1",
   "metadata": {},
   "outputs": [],
   "source": [
    "#Dropping a column 'Default'\n",
    "data = data.drop('Default',axis=1)"
   ]
  },
  {
   "cell_type": "code",
   "execution_count": 115,
   "id": "0f850f08",
   "metadata": {},
   "outputs": [],
   "source": [
    "#reset the index\n",
    "data = data.reset_index()\n"
   ]
  },
  {
   "cell_type": "code",
   "execution_count": 119,
   "id": "f809ea29",
   "metadata": {},
   "outputs": [
    {
     "data": {
      "text/plain": [
       "index                                          int64\n",
       "Customer_ID                                    int64\n",
       "First_Name                                    object\n",
       "Last_Name                                     object\n",
       "Gender                                        object\n",
       "Past_3_Years_Bike_Related_Purchase             int64\n",
       "Date_of_Birth                         datetime64[ns]\n",
       "Job_Title                                     object\n",
       "Job_Industry_Category                         object\n",
       "Wealth_Segment                                object\n",
       "Deceased_Indicator                            object\n",
       "Owns_Car                                      object\n",
       "Tenure                                       float64\n",
       "dtype: object"
      ]
     },
     "execution_count": 119,
     "metadata": {},
     "output_type": "execute_result"
    }
   ],
   "source": [
    "data.dtypes"
   ]
  },
  {
   "cell_type": "code",
   "execution_count": null,
   "id": "02639afe",
   "metadata": {},
   "outputs": [],
   "source": []
  },
  {
   "cell_type": "code",
   "execution_count": null,
   "id": "dbba0316",
   "metadata": {},
   "outputs": [],
   "source": []
  },
  {
   "cell_type": "code",
   "execution_count": null,
   "id": "486cb1f3",
   "metadata": {},
   "outputs": [],
   "source": []
  }
 ],
 "metadata": {
  "kernelspec": {
   "display_name": "Python 3 (ipykernel)",
   "language": "python",
   "name": "python3"
  },
  "language_info": {
   "codemirror_mode": {
    "name": "ipython",
    "version": 3
   },
   "file_extension": ".py",
   "mimetype": "text/x-python",
   "name": "python",
   "nbconvert_exporter": "python",
   "pygments_lexer": "ipython3",
   "version": "3.9.12"
  }
 },
 "nbformat": 4,
 "nbformat_minor": 5
}
